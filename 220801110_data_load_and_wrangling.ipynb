{
  "nbformat": 4,
  "nbformat_minor": 0,
  "metadata": {
    "colab": {
      "provenance": []
    },
    "kernelspec": {
      "name": "python3",
      "display_name": "Python 3"
    },
    "language_info": {
      "name": "python"
    }
  },
  "cells": [
    {
      "cell_type": "code",
      "execution_count": null,
      "metadata": {
        "colab": {
          "base_uri": "https://localhost:8080/"
        },
        "id": "cbkshmqpGOVs",
        "outputId": "2af9251a-48e8-4736-8e7d-7dee5c999dd4"
      },
      "outputs": [
        {
          "output_type": "stream",
          "name": "stdout",
          "text": [
            "Original DataFrame 1:\n",
            "      name  age\n",
            "0  karthi   19\n",
            "1  monish   19\n",
            "2      aj   19\n",
            "\n",
            " Original DataFrame 2:\n",
            "    mark\n",
            "0    92\n",
            "1    93\n",
            "2    80\n"
          ]
        }
      ],
      "source": [
        "import pandas as pd\n",
        "data1=({\"name\":[\"karthi\",\"monish\",\"aj\"],\"age\":[19,19,19]})\n",
        "data2=({\"mark\":[92,93,80]})\n",
        "df1=pd.DataFrame(data1)\n",
        "df2=pd.DataFrame(data2)\n",
        "print(\"Original DataFrame 1:\\n\",df1)\n",
        "print(\"\\n Original DataFrame 2:\\n\",df2)"
      ]
    },
    {
      "cell_type": "code",
      "source": [
        "import pandas as pd\n",
        "d=pd.read_excel(\"/content/NEW DATA.xlsx\")\n",
        "print(\"Get the table data:\\n\")\n",
        "print(d)\n"
      ],
      "metadata": {
        "colab": {
          "base_uri": "https://localhost:8080/"
        },
        "id": "PhVWOLJkHV8u",
        "outputId": "77dfdd07-6582-43f7-d2c3-bc9b9ed9f704"
      },
      "execution_count": null,
      "outputs": [
        {
          "output_type": "stream",
          "name": "stdout",
          "text": [
            "Get the table data:\n",
            "\n",
            "          NAME    ROLL NO DEPARTMENT  CGPA\n",
            "0   MADHAN SAI  220801110        ECE    10\n",
            "1  LOKESHWARAN  220801109        ECE    10\n",
            "2  KARTHIKEYAN  220801098        ECE    10\n",
            "3       MONISH  220801124        ECE    10\n",
            "4        AZHAR  220801121        ECE    10\n"
          ]
        }
      ]
    },
    {
      "cell_type": "code",
      "source": [
        "import pandas as pd\n",
        "df=pd.DataFrame(d)\n",
        "print(\"\\nGet the shape (no of rows,no of columns)\\n\",df.shape)"
      ],
      "metadata": {
        "colab": {
          "base_uri": "https://localhost:8080/"
        },
        "id": "JQdn_HwIMfRJ",
        "outputId": "3769bc64-c491-4aa7-e689-deb9ac6857aa"
      },
      "execution_count": null,
      "outputs": [
        {
          "output_type": "stream",
          "name": "stdout",
          "text": [
            "\n",
            "Get the shape (no of rows,no of columns)\n",
            " (5, 4)\n"
          ]
        }
      ]
    },
    {
      "cell_type": "code",
      "source": [
        "import pandas as pd\n",
        "print(\"\\nGet particular column values\\n\",df['ROLL NO'])"
      ],
      "metadata": {
        "colab": {
          "base_uri": "https://localhost:8080/"
        },
        "id": "Psi4eUJJNiq5",
        "outputId": "133c9b4e-5c1d-4b4c-823c-0ac803c834c9"
      },
      "execution_count": null,
      "outputs": [
        {
          "output_type": "stream",
          "name": "stdout",
          "text": [
            "\n",
            "Get particular column values\n",
            " 0    220801110\n",
            "1    220801109\n",
            "2    220801098\n",
            "3    220801124\n",
            "4    220801121\n",
            "Name: ROLL NO, dtype: int64\n"
          ]
        }
      ]
    },
    {
      "cell_type": "code",
      "source": [
        "import pandas as pd\n",
        "dt=pd.DataFrame([[13,67.43],[2,78,90],[234,87,980]],index=['four','five','six'],columns=['a','b','c'])\n",
        "print(df)"
      ],
      "metadata": {
        "colab": {
          "base_uri": "https://localhost:8080/"
        },
        "id": "mRB0JQRYOF8o",
        "outputId": "d1dec61c-b3af-47a2-b617-5e922488e7e4"
      },
      "execution_count": null,
      "outputs": [
        {
          "output_type": "stream",
          "name": "stdout",
          "text": [
            "          NAME    ROLL NO DEPARTMENT  CGPA\n",
            "0   MADHAN SAI  220801110        ECE    10\n",
            "1  LOKESHWARAN  220801109        ECE    10\n",
            "2  KARTHIKEYAN  220801098        ECE    10\n",
            "3       MONISH  220801124        ECE    10\n",
            "4        AZHAR  220801121        ECE    10\n"
          ]
        }
      ]
    },
    {
      "cell_type": "code",
      "source": [
        "import pandas as pd\n",
        "print(\"Taking the input from DataFrame and storing in the Excel file\")\n",
        "df.to_excel('/content/NEW DATA.xlsx')\n",
        "d=pd.DataFrame([[110,210,310],[12,32,45],[32,76,89]],index=['four','five','six'],columns=['a','b','c'])\n",
        "d.to_excel('/content/NEW DATA.xlsx')"
      ],
      "metadata": {
        "colab": {
          "base_uri": "https://localhost:8080/"
        },
        "id": "WxlTvdYMPqxX",
        "outputId": "fa433274-481d-4e64-f843-d5d210260083"
      },
      "execution_count": null,
      "outputs": [
        {
          "output_type": "stream",
          "name": "stdout",
          "text": [
            "Taking the input from DataFrame and storing in the Excel file\n"
          ]
        }
      ]
    },
    {
      "cell_type": "code",
      "source": [
        "import as pandas as pd\n"
      ],
      "metadata": {
        "id": "SDaG9-suRJ-G"
      },
      "execution_count": null,
      "outputs": []
    }
  ]
}